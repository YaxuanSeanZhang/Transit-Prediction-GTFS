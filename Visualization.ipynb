{
 "cells": [
  {
   "cell_type": "markdown",
   "metadata": {},
   "source": [
    "## Visualization"
   ]
  },
  {
   "cell_type": "markdown",
   "metadata": {},
   "source": [
    "This Notebook was created with the intention to visualize individual possible trip table. "
   ]
  },
  {
   "cell_type": "code",
   "execution_count": 11,
   "metadata": {},
   "outputs": [],
   "source": [
    "# Import modules\n",
    "import pandas as pd\n",
    "import folium\n",
    "from shapely.geometry import LineString\n",
    "from geopandas import GeoDataFrame\n",
    "import os\n",
    "import random"
   ]
  },
  {
   "cell_type": "markdown",
   "metadata": {},
   "source": [
    "### Create a dataframe containing individual possible trips' ID and all the stops coordinates within a trip"
   ]
  },
  {
   "cell_type": "markdown",
   "metadata": {},
   "source": [
    "In order to visualize individual possible trip(s), the first step is to get the coordinates information of all the stops within a trip. To do so, we merged \"trip\", \"stop_time\", and \"stops\" tables and then sliced out the needed columns."
   ]
  },
  {
   "cell_type": "code",
   "execution_count": 2,
   "metadata": {},
   "outputs": [
    {
     "data": {
      "text/html": [
       "<div>\n",
       "<style scoped>\n",
       "    .dataframe tbody tr th:only-of-type {\n",
       "        vertical-align: middle;\n",
       "    }\n",
       "\n",
       "    .dataframe tbody tr th {\n",
       "        vertical-align: top;\n",
       "    }\n",
       "\n",
       "    .dataframe thead th {\n",
       "        text-align: right;\n",
       "    }\n",
       "</style>\n",
       "<table border=\"1\" class=\"dataframe\">\n",
       "  <thead>\n",
       "    <tr style=\"text-align: right;\">\n",
       "      <th></th>\n",
       "      <th>trip_id</th>\n",
       "      <th>stop_lat</th>\n",
       "      <th>stop_lon</th>\n",
       "    </tr>\n",
       "  </thead>\n",
       "  <tbody>\n",
       "    <tr>\n",
       "      <th>0</th>\n",
       "      <td>8847474-DEC15-MVS-BUS-Weekday-01</td>\n",
       "      <td>44.932478</td>\n",
       "      <td>-93.343189</td>\n",
       "    </tr>\n",
       "  </tbody>\n",
       "</table>\n",
       "</div>"
      ],
      "text/plain": [
       "                            trip_id   stop_lat   stop_lon\n",
       "0  8847474-DEC15-MVS-BUS-Weekday-01  44.932478 -93.343189"
      ]
     },
     "execution_count": 2,
     "metadata": {},
     "output_type": "execute_result"
    }
   ],
   "source": [
    "# Create paths to the files that are going to be merged\n",
    "trip = os.path.join(\"data/3-6\", \"trips.txt\")\n",
    "stop_time = os.path.join(\"data/3-6\", \"stop_times.txt\")\n",
    "stop = os.path.join(\"data/3-6\", \"stops.txt\")\n",
    "\n",
    "# Read the files into dataframe\n",
    "df1 = pd.read_csv(trip, low_memory = False)\n",
    "df2 = pd.read_csv(stop_time, low_memory = False)\n",
    "df3 = pd.read_csv(stop, low_memory = False)\n",
    "\n",
    "# Merge the first two dataframes\n",
    "merge_1 = pd.merge(df1, df2, on =\"trip_id\", how = \"left\" )\n",
    "\n",
    "# Merge the third dataframe\n",
    "merge_2 = pd.merge(merge_1, df3, on = \"stop_id\", how = \"left\")\n",
    "\n",
    "# Slice out the desired columns\n",
    "slice1 = merge_2[[\"trip_id\", \"stop_lat\", \"stop_lon\"]]\n",
    "# Check the result\n",
    "slice1.head(1)"
   ]
  },
  {
   "cell_type": "markdown",
   "metadata": {},
   "source": [
    "### Create lists to store needed information"
   ]
  },
  {
   "cell_type": "markdown",
   "metadata": {},
   "source": [
    "Next, we read the individual possible trip table. There are several needed information we need to derive from this table, which are:\n",
    "> 1. Individual Possible Trip ID\n",
    "2. Individual Original Place coordinates\n",
    "3. Individual Geton Stop coordinates and names\n",
    "4. Individual Getoff Stop coordinates and names\n",
    "5. Individual Boarding Place coordinates"
   ]
  },
  {
   "cell_type": "code",
   "execution_count": 3,
   "metadata": {},
   "outputs": [
    {
     "data": {
      "text/html": [
       "<div>\n",
       "<style scoped>\n",
       "    .dataframe tbody tr th:only-of-type {\n",
       "        vertical-align: middle;\n",
       "    }\n",
       "\n",
       "    .dataframe tbody tr th {\n",
       "        vertical-align: top;\n",
       "    }\n",
       "\n",
       "    .dataframe thead th {\n",
       "        text-align: right;\n",
       "    }\n",
       "</style>\n",
       "<table border=\"1\" class=\"dataframe\">\n",
       "  <thead>\n",
       "    <tr style=\"text-align: right;\">\n",
       "      <th></th>\n",
       "      <th>Unnamed: 0</th>\n",
       "      <th>indivi_id</th>\n",
       "      <th>route_id</th>\n",
       "      <th>route_short_name</th>\n",
       "      <th>stop_lat_x</th>\n",
       "      <th>stop_lon_x</th>\n",
       "      <th>stop_lat_y</th>\n",
       "      <th>stop_lon_y</th>\n",
       "      <th>stop_id_x</th>\n",
       "      <th>stop_id_y</th>\n",
       "      <th>stop_name_x</th>\n",
       "      <th>stop_name_y</th>\n",
       "      <th>DATE</th>\n",
       "      <th>BOARDING_LON</th>\n",
       "      <th>BOARDING_LAT</th>\n",
       "      <th>ORIGIN_LAT_100M</th>\n",
       "      <th>ORIGIN_LON_100M</th>\n",
       "      <th>trip_id</th>\n",
       "      <th>arrival_time</th>\n",
       "    </tr>\n",
       "  </thead>\n",
       "  <tbody>\n",
       "    <tr>\n",
       "      <th>0</th>\n",
       "      <td>0</td>\n",
       "      <td>1</td>\n",
       "      <td>6-81</td>\n",
       "      <td>6</td>\n",
       "      <td>44.979544</td>\n",
       "      <td>-93.272558</td>\n",
       "      <td>44.948272</td>\n",
       "      <td>-93.298208</td>\n",
       "      <td>17947</td>\n",
       "      <td>1322</td>\n",
       "      <td>Hennepin Ave &amp; 5th St S</td>\n",
       "      <td>Hennepin Ave &amp; Lake St W</td>\n",
       "      <td>2016-04-11 00:00:00</td>\n",
       "      <td>-93.273144</td>\n",
       "      <td>44.980003</td>\n",
       "      <td>44.948</td>\n",
       "      <td>-93.299</td>\n",
       "      <td>9181751-MAR16-MVS-BUS-Weekday-01,9181753-MAR16...</td>\n",
       "      <td>12:29:00,12:49:00,12:19:00,12:39:00,12:59:00</td>\n",
       "    </tr>\n",
       "  </tbody>\n",
       "</table>\n",
       "</div>"
      ],
      "text/plain": [
       "   Unnamed: 0  indivi_id route_id  route_short_name  stop_lat_x  stop_lon_x  \\\n",
       "0           0          1     6-81                 6   44.979544  -93.272558   \n",
       "\n",
       "   stop_lat_y  stop_lon_y  stop_id_x  stop_id_y              stop_name_x  \\\n",
       "0   44.948272  -93.298208      17947       1322  Hennepin Ave & 5th St S   \n",
       "\n",
       "                stop_name_y                 DATE  BOARDING_LON  BOARDING_LAT  \\\n",
       "0  Hennepin Ave & Lake St W  2016-04-11 00:00:00    -93.273144     44.980003   \n",
       "\n",
       "   ORIGIN_LAT_100M  ORIGIN_LON_100M  \\\n",
       "0           44.948          -93.299   \n",
       "\n",
       "                                             trip_id  \\\n",
       "0  9181751-MAR16-MVS-BUS-Weekday-01,9181753-MAR16...   \n",
       "\n",
       "                                   arrival_time  \n",
       "0  12:29:00,12:49:00,12:19:00,12:39:00,12:59:00  "
      ]
     },
     "execution_count": 3,
     "metadata": {},
     "output_type": "execute_result"
    }
   ],
   "source": [
    "# Read the individual possible trip table\n",
    "df6 = pd.read_csv(\"data/individual_10.csv\", low_memory = False)\n",
    "df6.head(1)"
   ]
  },
  {
   "cell_type": "markdown",
   "metadata": {},
   "source": [
    "We created several list to store these information"
   ]
  },
  {
   "cell_type": "code",
   "execution_count": 4,
   "metadata": {},
   "outputs": [],
   "source": [
    "# Create a list to store trip id of individual possible trip\n",
    "trip_lst = [[df6.at[index, \"trip_id\"]] for index, row in df6.iterrows()]\n",
    "# Create a list to store coordinates of geton stops\n",
    "geton_stop_lst = [(df6.at[index,\"stop_lat_y\"], df6.at[index,\"stop_lon_y\"])for index, row in df6.iterrows()]\n",
    "# Create a list to store coordinates of getoff stops\n",
    "getoff_stop_lst = [(df6.at[index,\"stop_lat_x\"], df6.at[index,\"stop_lon_x\"])for index, row in df6.iterrows()]\n",
    "# Create a list to store coordinates of individual original place\n",
    "origin_lst = [(df6.at[index,\"ORIGIN_LAT_100M\"], df6.at[index,\"ORIGIN_LON_100M\"])for index, row in df6.iterrows()]\n",
    "# Create a list to store coordinates of individual boarding place\n",
    "board_lst = [(df6.at[index,\"BOARDING_LAT\"], df6.at[index,\"BOARDING_LON\"])for index, row in df6.iterrows()]\n",
    "# Create a list to store names of geton stops\n",
    "geton_stop_name = [df6.at[index, \"stop_name_y\"] for index, row in df6.iterrows()]\n",
    "# Create a list to store names of geoff stops\n",
    "getoff_stop_name = [df6.at[index, \"stop_name_x\"] for index, row in df6.iterrows()]"
   ]
  },
  {
   "cell_type": "markdown",
   "metadata": {},
   "source": [
    "### Slice out stops' latitute and longitude based on individual trip id"
   ]
  },
  {
   "cell_type": "markdown",
   "metadata": {},
   "source": [
    "Since an individual might take multiple trips, we decided to create GeoJSON object of each possible trip, enabling user to toggle between different possible trips. To do so, we first extract all the stops' coordinates within a possible trip, then using \"LineString\" function to create a line geometry in Json format, and finally created a dataframe to store this line object. "
   ]
  },
  {
   "cell_type": "markdown",
   "metadata": {},
   "source": [
    "- We define a function to automatically extract individual possible trips' ID out from the original table and then based on trip ID to find all the stops' coordinates within the trip. "
   ]
  },
  {
   "cell_type": "code",
   "execution_count": 5,
   "metadata": {},
   "outputs": [],
   "source": [
    "# Return a dataframe containing individual possible trips and the corresponding stops' coordinates of each trip\n",
    "def individual_trips(i):\n",
    "    global trip_lst, slice1\n",
    "    \n",
    "    # Split out each trip_id using delimiter \",\"\n",
    "    possbile_trips = trip_lst[i][0].split(\",\")\n",
    "    # Slice out the rows based on trip_id\n",
    "    lst = [slice1.loc[slice1[\"trip_id\"] == trip] for trip in possbile_trips] \n",
    "    # Concatenat series \n",
    "    df = pd.concat(lst).reset_index(drop = True)\n",
    "    \n",
    "    return df "
   ]
  },
  {
   "cell_type": "markdown",
   "metadata": {},
   "source": [
    "Next, we defined a function to automatically create a dataframe containing the line geometry representing all the stops in a trip."
   ]
  },
  {
   "cell_type": "code",
   "execution_count": 6,
   "metadata": {},
   "outputs": [],
   "source": [
    "# Create a line dataframe containing the line geometry representing trip\n",
    "def make_lines(i, t):\n",
    "    global trip_lst\n",
    "    \n",
    "    # Put the set of stops' coordinates of a trip into a list\n",
    "    lst = list(zip(list(individual_trips(i).loc[individual_trips(i).trip_id == trip_lst[i][0].split(\",\")[t]].stop_lon), \n",
    "                   list(individual_trips(i).loc[individual_trips(i).trip_id == trip_lst[i][0].split(\",\")[t]].stop_lat)))\n",
    "    \n",
    "    # Create a linestring object\n",
    "    line = LineString(lst)\n",
    "    \n",
    "    # Create a dataframe containing line geometry \n",
    "    data = {\"id\":i+1, \"geometry\":[line]}\n",
    "    df_line = pd.DataFrame(data, columns = [\"id\", \"geometry\"])\n",
    "    df_line[\"id\"] = df_line[\"id\"].astype(\"int\") # Convert data type of \"id\" to integer\n",
    "    \n",
    "    return df_line"
   ]
  },
  {
   "cell_type": "markdown",
   "metadata": {},
   "source": [
    "Then, we defined a function to automatically count how many possible trips the individual has. Based on the previous defined function, a set of dataframes are created and then are appended to a list. Each element in this list is a dataframe representing a possible trip."
   ]
  },
  {
   "cell_type": "code",
   "execution_count": 7,
   "metadata": {},
   "outputs": [],
   "source": [
    "# Create a list to store a set of line dataframes\n",
    "def line_df(i):\n",
    "    df_lst = []\n",
    "    for t in range(len(trip_lst[i][0].split(\",\"))):\n",
    "        df = make_lines(i, t)\n",
    "        df_lst.append(df)\n",
    "    return df_lst"
   ]
  },
  {
   "cell_type": "markdown",
   "metadata": {},
   "source": [
    "Since we also want to visualize individual trip route, we defined a function to return a list containing the coordinates of individual original place, boarding place, and stops between geton and getoff stops."
   ]
  },
  {
   "cell_type": "code",
   "execution_count": 8,
   "metadata": {},
   "outputs": [],
   "source": [
    "# Create a list to store coordinates of individual original place, boarding place, and stops between geton and getoff stops\n",
    "def make_individual_lines(i):\n",
    "    global trip_lst, geton_stop_lst, getoff_stop_lst, origin_lst, board_lst\n",
    "    \n",
    "    # Put the set of stops' coordinates of a trip into a list\n",
    "    lst = list(zip(list(individual_trips(i).loc[individual_trips(i).trip_id == trip_lst[i][0].split(\",\")[0]].stop_lat), \n",
    "                   list(individual_trips(i).loc[individual_trips(i).trip_id == trip_lst[i][0].split(\",\")[0]].stop_lon)))\n",
    "    \n",
    "    # Execlude the stops prior geton stop\n",
    "    for e in range(len(lst)):\n",
    "        if lst[e][0] == geton_stop_lst[i][0] or lst[e][1] == geton_stop_lst[i][1]:\n",
    "            new = lst[e:]\n",
    "    \n",
    "    # Execlude the stops after getoff stop\n",
    "    for f in range(len(new)):\n",
    "        if new[f][0] == getoff_stop_lst[i][0] or new[f][1] == getoff_stop_lst[i][1]:\n",
    "            new1 = new[:f+1]\n",
    "    \n",
    "    # Insert the origin and append the board       \n",
    "    new1.insert(0, origin_lst[i])\n",
    "    new1.append(board_lst[i])\n",
    "    \n",
    "    return new1"
   ]
  },
  {
   "cell_type": "markdown",
   "metadata": {},
   "source": [
    "Finally, we defined a function to create to visualize information we are interested in. This function take the list containing dataframe representing possible trip and converted it to a geodataframe, enabling folium \"GeoJson\" function to read it directly. It also visualize individual trip route by using folium \"Polyline\" function. The individual original place, geton stop, getoff stop, and boarding place are also visualized as the circle markers on the map. This function also allows user to input the specific individual they want to look at. "
   ]
  },
  {
   "cell_type": "code",
   "execution_count": 9,
   "metadata": {},
   "outputs": [],
   "source": [
    "# Visualizing the individual possible trips and individual trip route\n",
    "def visualization():\n",
    "    # Users can determine which individual they want to see\n",
    "    input1 = input(\"Which individual would you like to see?(1-10) \")\n",
    "    # Make sure user input the correct value\n",
    "    try:\n",
    "        i = int(input1)\n",
    "    except:\n",
    "        print(\"Please enter valid number!!\")\n",
    "    \n",
    "    # Define global variables\n",
    "    global geton_stop_name, getoff_stop_name, geton_stop_lst, getoff_stop_lst, origin_lst, board_lst\n",
    "    \n",
    "    # Create a basemap\n",
    "    m = folium.Map([44.943722, -93.094276], \n",
    "                    zoom_start = 12, tiles='Cartodb dark_matter')\n",
    "    crs = {\"init\": \"epsg:4326\"} # Define coordinate system to WGS84\n",
    "    \n",
    "    # Add individual original place, geton stop, getoff stop, and boarding place to the basemap\n",
    "    folium.CircleMarker(geton_stop_lst[i-1], radius = 5, fill = True, fill_color = \"#1dff3b\", \n",
    "                        fill_opacity = 0.75, weight = 0.3, \n",
    "                        tooltip = \"Geton Stop, Name: {0}\".format(geton_stop_name[i-1])).add_to(m)\n",
    "    folium.CircleMarker(getoff_stop_lst[i-1], radius = 5, fill = True, fill_color = \"#ff251d\", \n",
    "                        fill_opacity = 0.75, weight = 0.3, \n",
    "                        tooltip = \"Getoff Stop, Name: {0}\".format(getoff_stop_name[i-1])).add_to(m)\n",
    "    folium.CircleMarker(origin_lst[i-1], radius = 5, fill = True, fill_color = \"#ff961d\", \n",
    "                        fill_opacity = 0.75, weight = 0.3, \n",
    "                        tooltip = \"Original Place\").add_to(m)\n",
    "    folium.CircleMarker(board_lst[i-1], radius = 5, fill = True, fill_color = \"#301dff\", \n",
    "                        fill_opacity = 0.75, weight = 0.3, \n",
    "                        tooltip = \"Boarding Place\").add_to(m)\n",
    "    \n",
    "    # Create a line representing individual trip route and add to the map\n",
    "    folium.PolyLine(make_individual_lines(i-1),color = \"#FF0000\", weight = 2,\n",
    "                    tooltip = \"Individual {0} Trip Route\".format(i)).add_to(m)\n",
    "    \n",
    "    # Create GeoJson object of each individual possible trip and add to the map\n",
    "    for df in range(len(line_df(i-1))):\n",
    "        line_gdf = GeoDataFrame(line_df(i-1)[df], crs = crs)\n",
    "        colors = [\"#F50057\",\"#FFD700\",\"#008000\",\"#0000FF\",\"#FF1493\",\"#800000\", \"#2F4F4F\",\"#4B0082\", \"#00FFFF\", \"#FFA500\"]\n",
    "        color = random.choice(colors)\n",
    "        folium.GeoJson(line_gdf,name = \"Possible Trip: {0}\".format(df + 1),\n",
    "                       style_function = lambda feature,color = color: {'color': color},\n",
    "                       highlight_function = lambda x, color = color: {'weight':5,'color':color,'fillOpacity':1},\n",
    "                       tooltip=folium.features.GeoJsonTooltip(fields=['id'], aliases=[\"Possible Trip:\"])).add_to(m)\n",
    "    \n",
    "    # Add legend to the map through the help of HTML and add to the map                     \n",
    "    legend_html = '''\n",
    "                <div style=\"position: fixed; color: white;\n",
    "                            bottom: 50px; left: 50px; width: 150px; height: 120px; \n",
    "                            border:2px solid white; z-index:9999; font-size:14px;font: \"Times New Roman\";\n",
    "                            \"><br>\n",
    "                              &nbsp; Original Place &nbsp; <i class=\"fa fa-circle\" style=\"color:#ff961d\"></i><br>\n",
    "                              &nbsp; Geton Stop &nbsp; <i class=\"fa fa-circle\" style=\"color:#1dff3b\"></i><br>\n",
    "                              &nbsp; Getoff Stop &nbsp; <i class=\"fa fa-circle\" style=\"color:#ff251d\"></i><br>\n",
    "                              &nbsp; Boarding Place &nbsp; <i class=\"fa fa-circle\" style=\"color:#301dff\"></i>\n",
    "                </div>\n",
    "                ''' \n",
    "    m.get_root().html.add_child(folium.Element(legend_html))\n",
    "    \n",
    "    # Enable layer control\n",
    "    folium.LayerControl().add_to(m)\n",
    "    return m"
   ]
  },
  {
   "cell_type": "code",
   "execution_count": 10,
   "metadata": {},
   "outputs": [
    {
     "name": "stdout",
     "output_type": "stream",
     "text": [
      "Which individual would you like to see?(1-10) 2\n"
     ]
    },
    {
     "ename": "RuntimeError",
     "evalue": "b'no arguments in initialization list'",
     "output_type": "error",
     "traceback": [
      "\u001b[1;31m---------------------------------------------------------------------------\u001b[0m",
      "\u001b[1;31mRuntimeError\u001b[0m                              Traceback (most recent call last)",
      "\u001b[1;32m<ipython-input-10-b9774b7b0015>\u001b[0m in \u001b[0;36m<module>\u001b[1;34m\u001b[0m\n\u001b[1;32m----> 1\u001b[1;33m \u001b[0mvisualization\u001b[0m\u001b[1;33m(\u001b[0m\u001b[1;33m)\u001b[0m\u001b[1;33m\u001b[0m\u001b[1;33m\u001b[0m\u001b[0m\n\u001b[0m",
      "\u001b[1;32m<ipython-input-9-0bf8f563b11c>\u001b[0m in \u001b[0;36mvisualization\u001b[1;34m()\u001b[0m\n\u001b[0;32m     43\u001b[0m                        \u001b[0mstyle_function\u001b[0m \u001b[1;33m=\u001b[0m \u001b[1;32mlambda\u001b[0m \u001b[0mfeature\u001b[0m\u001b[1;33m,\u001b[0m\u001b[0mcolor\u001b[0m \u001b[1;33m=\u001b[0m \u001b[0mcolor\u001b[0m\u001b[1;33m:\u001b[0m \u001b[1;33m{\u001b[0m\u001b[1;34m'color'\u001b[0m\u001b[1;33m:\u001b[0m \u001b[0mcolor\u001b[0m\u001b[1;33m}\u001b[0m\u001b[1;33m,\u001b[0m\u001b[1;33m\u001b[0m\u001b[1;33m\u001b[0m\u001b[0m\n\u001b[0;32m     44\u001b[0m                        \u001b[0mhighlight_function\u001b[0m \u001b[1;33m=\u001b[0m \u001b[1;32mlambda\u001b[0m \u001b[0mx\u001b[0m\u001b[1;33m,\u001b[0m \u001b[0mcolor\u001b[0m \u001b[1;33m=\u001b[0m \u001b[0mcolor\u001b[0m\u001b[1;33m:\u001b[0m \u001b[1;33m{\u001b[0m\u001b[1;34m'weight'\u001b[0m\u001b[1;33m:\u001b[0m\u001b[1;36m5\u001b[0m\u001b[1;33m,\u001b[0m\u001b[1;34m'color'\u001b[0m\u001b[1;33m:\u001b[0m\u001b[0mcolor\u001b[0m\u001b[1;33m,\u001b[0m\u001b[1;34m'fillOpacity'\u001b[0m\u001b[1;33m:\u001b[0m\u001b[1;36m1\u001b[0m\u001b[1;33m}\u001b[0m\u001b[1;33m,\u001b[0m\u001b[1;33m\u001b[0m\u001b[1;33m\u001b[0m\u001b[0m\n\u001b[1;32m---> 45\u001b[1;33m                        tooltip=folium.features.GeoJsonTooltip(fields=['id'], aliases=[\"Possible Trip:\"])).add_to(m)\n\u001b[0m\u001b[0;32m     46\u001b[0m \u001b[1;33m\u001b[0m\u001b[0m\n\u001b[0;32m     47\u001b[0m     \u001b[1;31m# Add legend to the map through the help of HTML and add to the map\u001b[0m\u001b[1;33m\u001b[0m\u001b[1;33m\u001b[0m\u001b[1;33m\u001b[0m\u001b[0m\n",
      "\u001b[1;32md:\\Users\\yaxua\\Anaconda3\\lib\\site-packages\\folium\\features.py\u001b[0m in \u001b[0;36m__init__\u001b[1;34m(self, data, style_function, name, overlay, control, show, smooth_factor, highlight_function, tooltip)\u001b[0m\n\u001b[0;32m    442\u001b[0m             \u001b[0mself\u001b[0m\u001b[1;33m.\u001b[0m\u001b[0membed\u001b[0m \u001b[1;33m=\u001b[0m \u001b[1;32mTrue\u001b[0m\u001b[1;33m\u001b[0m\u001b[1;33m\u001b[0m\u001b[0m\n\u001b[0;32m    443\u001b[0m             \u001b[1;32mif\u001b[0m \u001b[0mhasattr\u001b[0m\u001b[1;33m(\u001b[0m\u001b[0mdata\u001b[0m\u001b[1;33m,\u001b[0m \u001b[1;34m'to_crs'\u001b[0m\u001b[1;33m)\u001b[0m\u001b[1;33m:\u001b[0m\u001b[1;33m\u001b[0m\u001b[1;33m\u001b[0m\u001b[0m\n\u001b[1;32m--> 444\u001b[1;33m                 \u001b[0mdata\u001b[0m \u001b[1;33m=\u001b[0m \u001b[0mdata\u001b[0m\u001b[1;33m.\u001b[0m\u001b[0mto_crs\u001b[0m\u001b[1;33m(\u001b[0m\u001b[0mepsg\u001b[0m\u001b[1;33m=\u001b[0m\u001b[1;34m'4326'\u001b[0m\u001b[1;33m)\u001b[0m\u001b[1;33m\u001b[0m\u001b[1;33m\u001b[0m\u001b[0m\n\u001b[0m\u001b[0;32m    445\u001b[0m             \u001b[0mself\u001b[0m\u001b[1;33m.\u001b[0m\u001b[0mdata\u001b[0m \u001b[1;33m=\u001b[0m \u001b[0mjson\u001b[0m\u001b[1;33m.\u001b[0m\u001b[0mloads\u001b[0m\u001b[1;33m(\u001b[0m\u001b[0mjson\u001b[0m\u001b[1;33m.\u001b[0m\u001b[0mdumps\u001b[0m\u001b[1;33m(\u001b[0m\u001b[0mdata\u001b[0m\u001b[1;33m.\u001b[0m\u001b[0m__geo_interface__\u001b[0m\u001b[1;33m)\u001b[0m\u001b[1;33m)\u001b[0m  \u001b[1;31m# noqa\u001b[0m\u001b[1;33m\u001b[0m\u001b[1;33m\u001b[0m\u001b[0m\n\u001b[0;32m    446\u001b[0m         \u001b[1;32melse\u001b[0m\u001b[1;33m:\u001b[0m\u001b[1;33m\u001b[0m\u001b[1;33m\u001b[0m\u001b[0m\n",
      "\u001b[1;32md:\\Users\\yaxua\\Anaconda3\\lib\\site-packages\\geopandas\\geodataframe.py\u001b[0m in \u001b[0;36mto_crs\u001b[1;34m(self, crs, epsg, inplace)\u001b[0m\n\u001b[0;32m    441\u001b[0m         \u001b[1;32melse\u001b[0m\u001b[1;33m:\u001b[0m\u001b[1;33m\u001b[0m\u001b[1;33m\u001b[0m\u001b[0m\n\u001b[0;32m    442\u001b[0m             \u001b[0mdf\u001b[0m \u001b[1;33m=\u001b[0m \u001b[0mself\u001b[0m\u001b[1;33m.\u001b[0m\u001b[0mcopy\u001b[0m\u001b[1;33m(\u001b[0m\u001b[1;33m)\u001b[0m\u001b[1;33m\u001b[0m\u001b[1;33m\u001b[0m\u001b[0m\n\u001b[1;32m--> 443\u001b[1;33m         \u001b[0mgeom\u001b[0m \u001b[1;33m=\u001b[0m \u001b[0mdf\u001b[0m\u001b[1;33m.\u001b[0m\u001b[0mgeometry\u001b[0m\u001b[1;33m.\u001b[0m\u001b[0mto_crs\u001b[0m\u001b[1;33m(\u001b[0m\u001b[0mcrs\u001b[0m\u001b[1;33m=\u001b[0m\u001b[0mcrs\u001b[0m\u001b[1;33m,\u001b[0m \u001b[0mepsg\u001b[0m\u001b[1;33m=\u001b[0m\u001b[0mepsg\u001b[0m\u001b[1;33m)\u001b[0m\u001b[1;33m\u001b[0m\u001b[1;33m\u001b[0m\u001b[0m\n\u001b[0m\u001b[0;32m    444\u001b[0m         \u001b[0mdf\u001b[0m\u001b[1;33m.\u001b[0m\u001b[0mgeometry\u001b[0m \u001b[1;33m=\u001b[0m \u001b[0mgeom\u001b[0m\u001b[1;33m\u001b[0m\u001b[1;33m\u001b[0m\u001b[0m\n\u001b[0;32m    445\u001b[0m         \u001b[0mdf\u001b[0m\u001b[1;33m.\u001b[0m\u001b[0mcrs\u001b[0m \u001b[1;33m=\u001b[0m \u001b[0mgeom\u001b[0m\u001b[1;33m.\u001b[0m\u001b[0mcrs\u001b[0m\u001b[1;33m\u001b[0m\u001b[1;33m\u001b[0m\u001b[0m\n",
      "\u001b[1;32md:\\Users\\yaxua\\Anaconda3\\lib\\site-packages\\geopandas\\geoseries.py\u001b[0m in \u001b[0;36mto_crs\u001b[1;34m(self, crs, epsg)\u001b[0m\n\u001b[0;32m    302\u001b[0m             \u001b[1;32mexcept\u001b[0m \u001b[0mTypeError\u001b[0m\u001b[1;33m:\u001b[0m\u001b[1;33m\u001b[0m\u001b[1;33m\u001b[0m\u001b[0m\n\u001b[0;32m    303\u001b[0m                 \u001b[1;32mraise\u001b[0m \u001b[0mTypeError\u001b[0m\u001b[1;33m(\u001b[0m\u001b[1;34m'Must set either crs or epsg for output.'\u001b[0m\u001b[1;33m)\u001b[0m\u001b[1;33m\u001b[0m\u001b[1;33m\u001b[0m\u001b[0m\n\u001b[1;32m--> 304\u001b[1;33m         \u001b[0mproj_in\u001b[0m \u001b[1;33m=\u001b[0m \u001b[0mpyproj\u001b[0m\u001b[1;33m.\u001b[0m\u001b[0mProj\u001b[0m\u001b[1;33m(\u001b[0m\u001b[0mself\u001b[0m\u001b[1;33m.\u001b[0m\u001b[0mcrs\u001b[0m\u001b[1;33m,\u001b[0m \u001b[0mpreserve_units\u001b[0m\u001b[1;33m=\u001b[0m\u001b[1;32mTrue\u001b[0m\u001b[1;33m)\u001b[0m\u001b[1;33m\u001b[0m\u001b[1;33m\u001b[0m\u001b[0m\n\u001b[0m\u001b[0;32m    305\u001b[0m         \u001b[0mproj_out\u001b[0m \u001b[1;33m=\u001b[0m \u001b[0mpyproj\u001b[0m\u001b[1;33m.\u001b[0m\u001b[0mProj\u001b[0m\u001b[1;33m(\u001b[0m\u001b[0mcrs\u001b[0m\u001b[1;33m,\u001b[0m \u001b[0mpreserve_units\u001b[0m\u001b[1;33m=\u001b[0m\u001b[1;32mTrue\u001b[0m\u001b[1;33m)\u001b[0m\u001b[1;33m\u001b[0m\u001b[1;33m\u001b[0m\u001b[0m\n\u001b[0;32m    306\u001b[0m         \u001b[0mproject\u001b[0m \u001b[1;33m=\u001b[0m \u001b[0mpartial\u001b[0m\u001b[1;33m(\u001b[0m\u001b[0mpyproj\u001b[0m\u001b[1;33m.\u001b[0m\u001b[0mtransform\u001b[0m\u001b[1;33m,\u001b[0m \u001b[0mproj_in\u001b[0m\u001b[1;33m,\u001b[0m \u001b[0mproj_out\u001b[0m\u001b[1;33m)\u001b[0m\u001b[1;33m\u001b[0m\u001b[1;33m\u001b[0m\u001b[0m\n",
      "\u001b[1;32md:\\Users\\yaxua\\Anaconda3\\lib\\site-packages\\pyproj\\__init__.py\u001b[0m in \u001b[0;36m__new__\u001b[1;34m(self, projparams, preserve_units, **kwargs)\u001b[0m\n\u001b[0;32m    360\u001b[0m         \u001b[1;31m# on case-insensitive filesystems).\u001b[0m\u001b[1;33m\u001b[0m\u001b[1;33m\u001b[0m\u001b[1;33m\u001b[0m\u001b[0m\n\u001b[0;32m    361\u001b[0m         \u001b[0mprojstring\u001b[0m \u001b[1;33m=\u001b[0m \u001b[0mprojstring\u001b[0m\u001b[1;33m.\u001b[0m\u001b[0mreplace\u001b[0m\u001b[1;33m(\u001b[0m\u001b[1;34m'EPSG'\u001b[0m\u001b[1;33m,\u001b[0m\u001b[1;34m'epsg'\u001b[0m\u001b[1;33m)\u001b[0m\u001b[1;33m\u001b[0m\u001b[1;33m\u001b[0m\u001b[0m\n\u001b[1;32m--> 362\u001b[1;33m         \u001b[1;32mreturn\u001b[0m \u001b[0m_proj\u001b[0m\u001b[1;33m.\u001b[0m\u001b[0mProj\u001b[0m\u001b[1;33m.\u001b[0m\u001b[0m__new__\u001b[0m\u001b[1;33m(\u001b[0m\u001b[0mself\u001b[0m\u001b[1;33m,\u001b[0m \u001b[0mprojstring\u001b[0m\u001b[1;33m)\u001b[0m\u001b[1;33m\u001b[0m\u001b[1;33m\u001b[0m\u001b[0m\n\u001b[0m\u001b[0;32m    363\u001b[0m \u001b[1;33m\u001b[0m\u001b[0m\n\u001b[0;32m    364\u001b[0m     \u001b[1;32mdef\u001b[0m \u001b[0m__call__\u001b[0m\u001b[1;33m(\u001b[0m\u001b[0mself\u001b[0m\u001b[1;33m,\u001b[0m \u001b[1;33m*\u001b[0m\u001b[0margs\u001b[0m\u001b[1;33m,\u001b[0m \u001b[1;33m**\u001b[0m\u001b[0mkw\u001b[0m\u001b[1;33m)\u001b[0m\u001b[1;33m:\u001b[0m\u001b[1;33m\u001b[0m\u001b[1;33m\u001b[0m\u001b[0m\n",
      "\u001b[1;32m_proj.pyx\u001b[0m in \u001b[0;36m_proj.Proj.__cinit__\u001b[1;34m()\u001b[0m\n",
      "\u001b[1;31mRuntimeError\u001b[0m: b'no arguments in initialization list'"
     ]
    }
   ],
   "source": [
    "visualization()"
   ]
  },
  {
   "cell_type": "markdown",
   "metadata": {},
   "source": [
    "This map shows an individual possible trip and individual trip route. The locations of the individual original place, geton stop, getoff stop, and boarding place. "
   ]
  }
 ],
 "metadata": {
  "kernelspec": {
   "display_name": "Python 3",
   "language": "python",
   "name": "python3"
  },
  "language_info": {
   "codemirror_mode": {
    "name": "ipython",
    "version": 3
   },
   "file_extension": ".py",
   "mimetype": "text/x-python",
   "name": "python",
   "nbconvert_exporter": "python",
   "pygments_lexer": "ipython3",
   "version": "3.7.1"
  }
 },
 "nbformat": 4,
 "nbformat_minor": 2
}
