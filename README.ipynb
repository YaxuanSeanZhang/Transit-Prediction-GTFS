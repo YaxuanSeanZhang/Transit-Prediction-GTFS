{
 "cells": [
  {
   "cell_type": "markdown",
   "metadata": {},
   "source": [
    "# Predict Individual Possible Trip -- README\n",
    "This documentation is developed to help users know the project the learn how to run the code"
   ]
  },
  {
   "cell_type": "markdown",
   "metadata": {},
   "source": [
    "### Description"
   ]
  },
  {
   "cell_type": "markdown",
   "metadata": {},
   "source": [
    "- To study individual public transit trip route, it is important to know single trip step, i.e. origin, each transit route, boarding, and alighting stop. However, Transit Onboard Dataset only has individual transfer route description instead of transfer stop information, which would lead to the incompleteness data structure of individual trip.The project aims to use GTFS(General Transit Feed Specification) to reconstruct and visualize individual trip data, by matching two above datasets and predicting individual transfer trip.\n",
    "- In this project, the possible trip is predicted govern by the transit schedule (i.e. date and hour), trip direction, minimum distance rule.\n",
    "- The expected result is one reconstructed individual trip table, and an interactive visualization of invidual trip."
   ]
  },
  {
   "cell_type": "markdown",
   "metadata": {},
   "source": [
    "### Run Instruction"
   ]
  },
  {
   "cell_type": "markdown",
   "metadata": {},
   "source": [
    "There are four Jupyter Notebooks come with the project. To acquire the resulting table and map, following the order below:\n",
    "- Run the Notebook named \"Onboard_Processing\".\n",
    "- Run the Notebook named \"Merge_GTFS\".\n",
    "- Run the Notebook named \"Individual_Possible_Trip\".\n",
    "- Run the Notebook named \"Visualization\". "
   ]
  },
  {
   "cell_type": "markdown",
   "metadata": {},
   "source": [
    "You can decide the number of individuals in the individual possible trip table. The following code snippet is under the *\"Extract the individual travel time (hour) in on_board data\"* section in Individual_Poosible_Trip Notebook. Modify the number in bold to your desired number. For example, if you want to acquire twenty individual's possible trips information, type **[0:20]** \n",
    "<div class=\"alert alert-block alert-info\"> \n",
    "    on_board = pd.read_csv(\"on_board.csv\") \n",
    "<br>on_board.iloc<b>[0:11]</b>.to_csv('on_board1.csv')\n",
    "<br>on_board = pd.read_csv('on_board1.csv')\n",
    "<br>\n",
    "<br>p1 = re.compile(r\"(\\w+):.*\") \n",
    "<br>p2 = re.compile(r\".*([a-z][a-z])\") \n",
    "<br>\n",
    "<br>on_board[\"Time\"], on_board[\"Clock\"] = on_board.TIME_ON.str.extract(p1), on_board.TIME_ON.str.extract(p2)\n",
    "<br>on_board[\"Time\"] = on_board[\"Time\"].astype(int)\n",
    "<br>\n",
    "<br>on_board.Time = np.where((on_board.Clock == \"pm\") & (on_board.Time !=12) & (on_board.Time !=11), on_board.Time + 12, on_board.Time)\n",
    "<br>on_board[\"Time\"] = on_board[\"Time\"].astype(int)\n",
    "<br>on_board[\"route_type\"] = on_board[\"route_type\"].astype(str)\n",
    "<br>\n",
    "<br>on_board[\"route_type\"] = on_board[\"route_type\"].replace({'ALINE':'A Line', 'BLUE':'Blue', 'GREEN':'Green'})\n",
    "<br>on_board\n",
    "</div>"
   ]
  },
  {
   "cell_type": "markdown",
   "metadata": {},
   "source": [
    "The following custom function is in Visualization Notebook. This function will create a map to show an individual's possible trips, individual trip route, and other location information. This function will ask users to input a number. You can determine which individual you want to look at by typing a number. For example, if you want to see individual 15, type the 15 in the input bar. \n",
    "<div class=\"alert alert-block alert-info\"> \n",
    "visualization()\n",
    "\n",
    "</div>"
   ]
  },
  {
   "cell_type": "markdown",
   "metadata": {},
   "source": [
    "### Bugs/ Limitations"
   ]
  },
  {
   "cell_type": "markdown",
   "metadata": {},
   "source": [
    "- To simply the work, this project only focuses on the people who take only one transfer before they get to the current boarding route. And the code only can visulize the trip from origin to boarding stop instead of visulizing the whole trip.\n",
    "- A more effective algorithm or coding style is needed, since predicting one person's trip is also time-consuming. Due to the low running speed of code, a table only including 10 people's trip data is created, as a demo result of this project.\n",
    "- We still don't know if there any potential bugs in our code if we run a larger subset of on board data.\n",
    "- Visulization.ipynb only read GTFS data through Mar.-Jun., we did not use date condition to determine which GTFS table should be read."
   ]
  },
  {
   "cell_type": "markdown",
   "metadata": {},
   "source": [
    "### Authors and acknowledgment"
   ]
  },
  {
   "cell_type": "markdown",
   "metadata": {},
   "source": [
    "- The main authors in this project aree Kuan-Jui Lin, Xiaoran Li, and Yaxuan Zhang.\n",
    "- We thank Professor Eric Shook for useful comments on the stage of proposal and prototype. Professor Shook kindly provides technical support throughout the semester. "
   ]
  }
 ],
 "metadata": {
  "kernelspec": {
   "display_name": "Python 3",
   "language": "python",
   "name": "python3"
  },
  "language_info": {
   "codemirror_mode": {
    "name": "ipython",
    "version": 3
   },
   "file_extension": ".py",
   "mimetype": "text/x-python",
   "name": "python",
   "nbconvert_exporter": "python",
   "pygments_lexer": "ipython3",
   "version": "3.7.1"
  }
 },
 "nbformat": 4,
 "nbformat_minor": 2
}
